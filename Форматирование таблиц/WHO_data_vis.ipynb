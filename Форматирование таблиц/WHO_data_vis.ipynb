{
 "cells": [
  {
   "cell_type": "code",
   "execution_count": 1,
   "metadata": {},
   "outputs": [],
   "source": [
    "import seaborn as sns\n",
    "import matplotlib.pyplot as plt\n",
    "import matplotlib\n",
    "from bokeh.palettes import RdBu\n",
    "from bokeh.models import LinearColorMapper, ColumnDataSource, ColorBar\n",
    "from bokeh.models.ranges import FactorRange\n",
    "from bokeh.plotting import figure, show, output_file, save\n",
    "from bokeh.io import output_notebook\n",
    "from bokeh.transform import transform\n",
    "\n",
    "\n",
    "import numpy as np\n",
    "import pandas as pd"
   ]
  },
  {
   "cell_type": "code",
   "execution_count": 2,
   "metadata": {},
   "outputs": [],
   "source": [
    "data = pd.read_excel('data/mental_WHO.xlsx')"
   ]
  },
  {
   "cell_type": "code",
   "execution_count": 3,
   "metadata": {},
   "outputs": [
    {
     "data": {
      "text/html": [
       "<div>\n",
       "<style scoped>\n",
       "    .dataframe tbody tr th:only-of-type {\n",
       "        vertical-align: middle;\n",
       "    }\n",
       "\n",
       "    .dataframe tbody tr th {\n",
       "        vertical-align: top;\n",
       "    }\n",
       "\n",
       "    .dataframe thead th {\n",
       "        text-align: right;\n",
       "    }\n",
       "</style>\n",
       "<table border=\"1\" class=\"dataframe\">\n",
       "  <thead>\n",
       "    <tr style=\"text-align: right;\">\n",
       "      <th></th>\n",
       "      <th>Country</th>\n",
       "      <th>Year</th>\n",
       "      <th>ICD rev and list</th>\n",
       "      <th>Cause details</th>\n",
       "      <th>Sex</th>\n",
       "      <th>Format</th>\n",
       "      <th>Sum of selected ages</th>\n",
       "      <th>&lt; 1 year</th>\n",
       "      <th>1 year</th>\n",
       "      <th>2 years</th>\n",
       "      <th>...</th>\n",
       "      <th>55 - 59</th>\n",
       "      <th>60 - 64</th>\n",
       "      <th>65 - 69</th>\n",
       "      <th>70 - 74</th>\n",
       "      <th>75 - 79</th>\n",
       "      <th>80 - 84</th>\n",
       "      <th>85 - 89</th>\n",
       "      <th>90 - 95</th>\n",
       "      <th>95 +</th>\n",
       "      <th>Unknown</th>\n",
       "    </tr>\n",
       "  </thead>\n",
       "  <tbody>\n",
       "    <tr>\n",
       "      <th>0</th>\n",
       "      <td>Denmark</td>\n",
       "      <td>2015</td>\n",
       "      <td>104</td>\n",
       "      <td>F010</td>\n",
       "      <td>F</td>\n",
       "      <td>0</td>\n",
       "      <td>1</td>\n",
       "      <td>0</td>\n",
       "      <td>0</td>\n",
       "      <td>0.0</td>\n",
       "      <td>...</td>\n",
       "      <td>0</td>\n",
       "      <td>1</td>\n",
       "      <td>0</td>\n",
       "      <td>0</td>\n",
       "      <td>0</td>\n",
       "      <td>0</td>\n",
       "      <td>0</td>\n",
       "      <td>0.0</td>\n",
       "      <td>0.0</td>\n",
       "      <td>0</td>\n",
       "    </tr>\n",
       "    <tr>\n",
       "      <th>1</th>\n",
       "      <td>Denmark</td>\n",
       "      <td>2015</td>\n",
       "      <td>104</td>\n",
       "      <td>F010</td>\n",
       "      <td>M</td>\n",
       "      <td>0</td>\n",
       "      <td>1</td>\n",
       "      <td>0</td>\n",
       "      <td>0</td>\n",
       "      <td>0.0</td>\n",
       "      <td>...</td>\n",
       "      <td>0</td>\n",
       "      <td>0</td>\n",
       "      <td>0</td>\n",
       "      <td>0</td>\n",
       "      <td>0</td>\n",
       "      <td>1</td>\n",
       "      <td>0</td>\n",
       "      <td>0.0</td>\n",
       "      <td>0.0</td>\n",
       "      <td>0</td>\n",
       "    </tr>\n",
       "    <tr>\n",
       "      <th>2</th>\n",
       "      <td>Denmark</td>\n",
       "      <td>2015</td>\n",
       "      <td>104</td>\n",
       "      <td>F011</td>\n",
       "      <td>M</td>\n",
       "      <td>0</td>\n",
       "      <td>15</td>\n",
       "      <td>0</td>\n",
       "      <td>0</td>\n",
       "      <td>0.0</td>\n",
       "      <td>...</td>\n",
       "      <td>0</td>\n",
       "      <td>0</td>\n",
       "      <td>2</td>\n",
       "      <td>1</td>\n",
       "      <td>3</td>\n",
       "      <td>2</td>\n",
       "      <td>3</td>\n",
       "      <td>3.0</td>\n",
       "      <td>1.0</td>\n",
       "      <td>0</td>\n",
       "    </tr>\n",
       "    <tr>\n",
       "      <th>3</th>\n",
       "      <td>Denmark</td>\n",
       "      <td>2015</td>\n",
       "      <td>104</td>\n",
       "      <td>F011</td>\n",
       "      <td>F</td>\n",
       "      <td>0</td>\n",
       "      <td>24</td>\n",
       "      <td>0</td>\n",
       "      <td>0</td>\n",
       "      <td>0.0</td>\n",
       "      <td>...</td>\n",
       "      <td>0</td>\n",
       "      <td>0</td>\n",
       "      <td>0</td>\n",
       "      <td>3</td>\n",
       "      <td>2</td>\n",
       "      <td>3</td>\n",
       "      <td>7</td>\n",
       "      <td>8.0</td>\n",
       "      <td>1.0</td>\n",
       "      <td>0</td>\n",
       "    </tr>\n",
       "    <tr>\n",
       "      <th>4</th>\n",
       "      <td>Denmark</td>\n",
       "      <td>2015</td>\n",
       "      <td>104</td>\n",
       "      <td>F012</td>\n",
       "      <td>F</td>\n",
       "      <td>0</td>\n",
       "      <td>4</td>\n",
       "      <td>0</td>\n",
       "      <td>0</td>\n",
       "      <td>0.0</td>\n",
       "      <td>...</td>\n",
       "      <td>0</td>\n",
       "      <td>0</td>\n",
       "      <td>0</td>\n",
       "      <td>0</td>\n",
       "      <td>0</td>\n",
       "      <td>2</td>\n",
       "      <td>1</td>\n",
       "      <td>1.0</td>\n",
       "      <td>0.0</td>\n",
       "      <td>0</td>\n",
       "    </tr>\n",
       "  </tbody>\n",
       "</table>\n",
       "<p>5 rows × 32 columns</p>\n",
       "</div>"
      ],
      "text/plain": [
       "   Country  Year ICD rev and list Cause details Sex  Format  \\\n",
       "0  Denmark  2015              104          F010   F       0   \n",
       "1  Denmark  2015              104          F010   M       0   \n",
       "2  Denmark  2015              104          F011   M       0   \n",
       "3  Denmark  2015              104          F011   F       0   \n",
       "4  Denmark  2015              104          F012   F       0   \n",
       "\n",
       "   Sum of selected ages  < 1 year  1 year  2 years  ...  55 - 59  60 - 64  \\\n",
       "0                     1         0       0      0.0  ...        0        1   \n",
       "1                     1         0       0      0.0  ...        0        0   \n",
       "2                    15         0       0      0.0  ...        0        0   \n",
       "3                    24         0       0      0.0  ...        0        0   \n",
       "4                     4         0       0      0.0  ...        0        0   \n",
       "\n",
       "   65 - 69  70 - 74  75 - 79  80 - 84  85 - 89  90 - 95  95 +  Unknown  \n",
       "0        0        0        0        0        0      0.0   0.0        0  \n",
       "1        0        0        0        1        0      0.0   0.0        0  \n",
       "2        2        1        3        2        3      3.0   1.0        0  \n",
       "3        0        3        2        3        7      8.0   1.0        0  \n",
       "4        0        0        0        2        1      1.0   0.0        0  \n",
       "\n",
       "[5 rows x 32 columns]"
      ]
     },
     "execution_count": 3,
     "metadata": {},
     "output_type": "execute_result"
    }
   ],
   "source": [
    "data.head()"
   ]
  },
  {
   "cell_type": "code",
   "execution_count": null,
   "metadata": {},
   "outputs": [],
   "source": []
  },
  {
   "cell_type": "code",
   "execution_count": 4,
   "metadata": {},
   "outputs": [],
   "source": [
    "datadr = data.groupby(['Country', 'Year', 'Sex', 'Sum of selected ages'], as_index=False).mean()"
   ]
  },
  {
   "cell_type": "code",
   "execution_count": 5,
   "metadata": {},
   "outputs": [],
   "source": [
    "# datadr.fillna(0, inplace=True)"
   ]
  },
  {
   "cell_type": "code",
   "execution_count": 7,
   "metadata": {},
   "outputs": [],
   "source": [
    "cols = ['Country', 'Year', 'Sex', 'Sum of selected ages']\n",
    "mhd = datadr[cols]"
   ]
  },
  {
   "cell_type": "code",
   "execution_count": 11,
   "metadata": {},
   "outputs": [],
   "source": [
    "males = mhd[mhd['Sex'] == 'M']\n",
    "females = mhd[mhd['Sex'] == 'F']"
   ]
  },
  {
   "cell_type": "code",
   "execution_count": 12,
   "metadata": {},
   "outputs": [
    {
     "data": {
      "text/plain": [
       "(902, 4)"
      ]
     },
     "execution_count": 12,
     "metadata": {},
     "output_type": "execute_result"
    }
   ],
   "source": [
    "males.shape"
   ]
  },
  {
   "cell_type": "code",
   "execution_count": 13,
   "metadata": {},
   "outputs": [],
   "source": [
    "males = males.groupby(['Country', 'Year', 'Sex'], as_index = False).mean()\n",
    "females = females.groupby(['Country', 'Year', 'Sex'], as_index = False).mean()\n",
    "females = females[(females['Year'] != 1994) & (females['Year'] != 1995) & (females['Year'] != 1996) & (females['Year'] != 2016)]\n",
    "males = males[(males['Year'] != 1994) & (males['Year'] != 1995) & (males['Year'] != 1996) & (males['Year'] != 2016)]"
   ]
  },
  {
   "cell_type": "code",
   "execution_count": 14,
   "metadata": {},
   "outputs": [],
   "source": [
    "males = males.groupby(['Country', 'Year', 'Sex'], as_index = False).mean()\n",
    "females = females.groupby(['Country', 'Year', 'Sex'], as_index = False).mean()"
   ]
  },
  {
   "cell_type": "code",
   "execution_count": 15,
   "metadata": {},
   "outputs": [],
   "source": [
    "females = females[(females['Year'] != 1994) & (females['Year'] != 1995) & (females['Year'] != 1996) & (females['Year'] != 2016)]\n",
    "males = males[(males['Year'] != 1994) & (males['Year'] != 1995) & (males['Year'] != 1996) & (males['Year'] != 2016)]"
   ]
  },
  {
   "cell_type": "code",
   "execution_count": 16,
   "metadata": {},
   "outputs": [],
   "source": [
    "males[['Year']] = males[['Year']].astype('object')"
   ]
  },
  {
   "cell_type": "code",
   "execution_count": 17,
   "metadata": {},
   "outputs": [
    {
     "data": {
      "text/plain": [
       "Country                  object\n",
       "Year                     object\n",
       "Sex                      object\n",
       "Sum of selected ages    float64\n",
       "dtype: object"
      ]
     },
     "execution_count": 17,
     "metadata": {},
     "output_type": "execute_result"
    }
   ],
   "source": [
    "males.dtypes"
   ]
  },
  {
   "cell_type": "code",
   "execution_count": 18,
   "metadata": {},
   "outputs": [],
   "source": [
    "males['size'] = males['Sum of selected ages']"
   ]
  },
  {
   "cell_type": "code",
   "execution_count": 19,
   "metadata": {},
   "outputs": [],
   "source": [
    "years = []\n",
    "for i in range(len(males['Year'].tolist())):\n",
    "    years.append(str(males['Year'].tolist()[i]))"
   ]
  },
  {
   "cell_type": "code",
   "execution_count": 20,
   "metadata": {},
   "outputs": [],
   "source": [
    "males['Year_'] = years"
   ]
  },
  {
   "cell_type": "code",
   "execution_count": 21,
   "metadata": {},
   "outputs": [],
   "source": [
    "pop = pd.read_excel('data/population.xlsx')"
   ]
  },
  {
   "cell_type": "code",
   "execution_count": 22,
   "metadata": {},
   "outputs": [],
   "source": [
    "pop_v = pop.groupby(['Country', 'Year'], as_index=False).mean()\n",
    "pop_to_unite = pop_v[['Country', 'Year', 'Sum of selected ages']]"
   ]
  },
  {
   "cell_type": "code",
   "execution_count": 23,
   "metadata": {},
   "outputs": [
    {
     "name": "stderr",
     "output_type": "stream",
     "text": [
      "/home/tory/anaconda3/lib/python3.6/site-packages/pandas/core/frame.py:4153: SettingWithCopyWarning: \n",
      "A value is trying to be set on a copy of a slice from a DataFrame\n",
      "\n",
      "See the caveats in the documentation: https://pandas.pydata.org/pandas-docs/stable/user_guide/indexing.html#returning-a-view-versus-a-copy\n",
      "  downcast=downcast,\n"
     ]
    }
   ],
   "source": [
    "pop_to_unite.fillna(pop_to_unite['Sum of selected ages'].mean(), inplace=True)"
   ]
  },
  {
   "cell_type": "code",
   "execution_count": 24,
   "metadata": {},
   "outputs": [
    {
     "data": {
      "text/plain": [
       "Country                 0\n",
       "Year                    0\n",
       "Sum of selected ages    0\n",
       "dtype: int64"
      ]
     },
     "execution_count": 24,
     "metadata": {},
     "output_type": "execute_result"
    }
   ],
   "source": [
    "pop_to_unite.isna().sum()"
   ]
  },
  {
   "cell_type": "code",
   "execution_count": 25,
   "metadata": {},
   "outputs": [],
   "source": [
    "males = mhd[mhd['Sex'] == 'M']\n",
    "females = mhd[mhd['Sex'] == 'F']"
   ]
  },
  {
   "cell_type": "code",
   "execution_count": 26,
   "metadata": {},
   "outputs": [],
   "source": [
    "males = males.groupby(['Country', 'Year', 'Sex'], as_index = False).mean()\n",
    "females = females.groupby(['Country', 'Year', 'Sex'], as_index = False).mean()\n",
    "females = females[(females['Year'] != 1994) & (females['Year'] != 1995) & (females['Year'] != 1996) & (females['Year'] != 2016)]\n",
    "males = males[(males['Year'] != 1994) & (males['Year'] != 1995) & (males['Year'] != 1996) & (males['Year'] != 2016)]"
   ]
  },
  {
   "cell_type": "code",
   "execution_count": 27,
   "metadata": {},
   "outputs": [],
   "source": [
    "years = []\n",
    "for i in range(len(males['Year'].tolist())):\n",
    "    years.append(str(males['Year'].tolist()[i]))\n",
    "males['Year'] = years"
   ]
  },
  {
   "cell_type": "code",
   "execution_count": 28,
   "metadata": {},
   "outputs": [],
   "source": [
    "years = []\n",
    "for i in range(len(females['Year'].tolist())):\n",
    "    years.append(str(females['Year'].tolist()[i]))\n",
    "females['Year'] = years"
   ]
  },
  {
   "cell_type": "code",
   "execution_count": 29,
   "metadata": {},
   "outputs": [
    {
     "name": "stderr",
     "output_type": "stream",
     "text": [
      "/home/tory/anaconda3/lib/python3.6/site-packages/ipykernel_launcher.py:4: SettingWithCopyWarning: \n",
      "A value is trying to be set on a copy of a slice from a DataFrame.\n",
      "Try using .loc[row_indexer,col_indexer] = value instead\n",
      "\n",
      "See the caveats in the documentation: https://pandas.pydata.org/pandas-docs/stable/user_guide/indexing.html#returning-a-view-versus-a-copy\n",
      "  after removing the cwd from sys.path.\n"
     ]
    }
   ],
   "source": [
    "years = []\n",
    "for i in range(len(pop_to_unite['Year'].tolist())):\n",
    "    years.append(str(pop_to_unite['Year'].tolist()[i]))\n",
    "pop_to_unite['Year'] = years"
   ]
  },
  {
   "cell_type": "code",
   "execution_count": 30,
   "metadata": {},
   "outputs": [
    {
     "data": {
      "text/html": [
       "<div>\n",
       "<style scoped>\n",
       "    .dataframe tbody tr th:only-of-type {\n",
       "        vertical-align: middle;\n",
       "    }\n",
       "\n",
       "    .dataframe tbody tr th {\n",
       "        vertical-align: top;\n",
       "    }\n",
       "\n",
       "    .dataframe thead th {\n",
       "        text-align: right;\n",
       "    }\n",
       "</style>\n",
       "<table border=\"1\" class=\"dataframe\">\n",
       "  <thead>\n",
       "    <tr style=\"text-align: right;\">\n",
       "      <th></th>\n",
       "      <th>Country</th>\n",
       "      <th>Year</th>\n",
       "      <th>Sex</th>\n",
       "      <th>Sum of selected ages_x</th>\n",
       "      <th>Sum of selected ages_y</th>\n",
       "    </tr>\n",
       "  </thead>\n",
       "  <tbody>\n",
       "    <tr>\n",
       "      <th>0</th>\n",
       "      <td>Denmark</td>\n",
       "      <td>1997</td>\n",
       "      <td>F</td>\n",
       "      <td>61.909091</td>\n",
       "      <td>4.799444e+06</td>\n",
       "    </tr>\n",
       "    <tr>\n",
       "      <th>1</th>\n",
       "      <td>Denmark</td>\n",
       "      <td>1998</td>\n",
       "      <td>F</td>\n",
       "      <td>64.750000</td>\n",
       "      <td>4.799444e+06</td>\n",
       "    </tr>\n",
       "    <tr>\n",
       "      <th>2</th>\n",
       "      <td>Denmark</td>\n",
       "      <td>1999</td>\n",
       "      <td>F</td>\n",
       "      <td>72.000000</td>\n",
       "      <td>4.799444e+06</td>\n",
       "    </tr>\n",
       "    <tr>\n",
       "      <th>3</th>\n",
       "      <td>Denmark</td>\n",
       "      <td>2000</td>\n",
       "      <td>F</td>\n",
       "      <td>79.000000</td>\n",
       "      <td>5.337344e+06</td>\n",
       "    </tr>\n",
       "    <tr>\n",
       "      <th>4</th>\n",
       "      <td>Denmark</td>\n",
       "      <td>2001</td>\n",
       "      <td>F</td>\n",
       "      <td>70.785714</td>\n",
       "      <td>5.355082e+06</td>\n",
       "    </tr>\n",
       "  </tbody>\n",
       "</table>\n",
       "</div>"
      ],
      "text/plain": [
       "   Country  Year Sex  Sum of selected ages_x  Sum of selected ages_y\n",
       "0  Denmark  1997   F               61.909091            4.799444e+06\n",
       "1  Denmark  1998   F               64.750000            4.799444e+06\n",
       "2  Denmark  1999   F               72.000000            4.799444e+06\n",
       "3  Denmark  2000   F               79.000000            5.337344e+06\n",
       "4  Denmark  2001   F               70.785714            5.355082e+06"
      ]
     },
     "execution_count": 30,
     "metadata": {},
     "output_type": "execute_result"
    }
   ],
   "source": [
    "extended_data_f = pd.merge(females, pop_to_unite, left_on = ['Country', 'Year'], right_on = ['Country', 'Year'])\n",
    "extended_data_f.head()"
   ]
  },
  {
   "cell_type": "code",
   "execution_count": 31,
   "metadata": {},
   "outputs": [
    {
     "data": {
      "text/html": [
       "<div>\n",
       "<style scoped>\n",
       "    .dataframe tbody tr th:only-of-type {\n",
       "        vertical-align: middle;\n",
       "    }\n",
       "\n",
       "    .dataframe tbody tr th {\n",
       "        vertical-align: top;\n",
       "    }\n",
       "\n",
       "    .dataframe thead th {\n",
       "        text-align: right;\n",
       "    }\n",
       "</style>\n",
       "<table border=\"1\" class=\"dataframe\">\n",
       "  <thead>\n",
       "    <tr style=\"text-align: right;\">\n",
       "      <th></th>\n",
       "      <th>Country</th>\n",
       "      <th>Year</th>\n",
       "      <th>Sex</th>\n",
       "      <th>Sum of selected ages_x</th>\n",
       "      <th>Sum of selected ages_y</th>\n",
       "    </tr>\n",
       "  </thead>\n",
       "  <tbody>\n",
       "    <tr>\n",
       "      <th>0</th>\n",
       "      <td>Denmark</td>\n",
       "      <td>1997</td>\n",
       "      <td>M</td>\n",
       "      <td>46.363636</td>\n",
       "      <td>4.799444e+06</td>\n",
       "    </tr>\n",
       "    <tr>\n",
       "      <th>1</th>\n",
       "      <td>Denmark</td>\n",
       "      <td>1998</td>\n",
       "      <td>M</td>\n",
       "      <td>50.090909</td>\n",
       "      <td>4.799444e+06</td>\n",
       "    </tr>\n",
       "    <tr>\n",
       "      <th>2</th>\n",
       "      <td>Denmark</td>\n",
       "      <td>1999</td>\n",
       "      <td>M</td>\n",
       "      <td>64.363636</td>\n",
       "      <td>4.799444e+06</td>\n",
       "    </tr>\n",
       "    <tr>\n",
       "      <th>3</th>\n",
       "      <td>Denmark</td>\n",
       "      <td>2000</td>\n",
       "      <td>M</td>\n",
       "      <td>54.692308</td>\n",
       "      <td>5.337344e+06</td>\n",
       "    </tr>\n",
       "    <tr>\n",
       "      <th>4</th>\n",
       "      <td>Denmark</td>\n",
       "      <td>2001</td>\n",
       "      <td>M</td>\n",
       "      <td>63.750000</td>\n",
       "      <td>5.355082e+06</td>\n",
       "    </tr>\n",
       "  </tbody>\n",
       "</table>\n",
       "</div>"
      ],
      "text/plain": [
       "   Country  Year Sex  Sum of selected ages_x  Sum of selected ages_y\n",
       "0  Denmark  1997   M               46.363636            4.799444e+06\n",
       "1  Denmark  1998   M               50.090909            4.799444e+06\n",
       "2  Denmark  1999   M               64.363636            4.799444e+06\n",
       "3  Denmark  2000   M               54.692308            5.337344e+06\n",
       "4  Denmark  2001   M               63.750000            5.355082e+06"
      ]
     },
     "execution_count": 31,
     "metadata": {},
     "output_type": "execute_result"
    }
   ],
   "source": [
    "extended_data_m = pd.merge(males, pop_to_unite, left_on = ['Country', 'Year'], right_on = ['Country', 'Year'])\n",
    "extended_data_m.head()"
   ]
  },
  {
   "cell_type": "code",
   "execution_count": 32,
   "metadata": {},
   "outputs": [],
   "source": [
    "extended_data_f['Val_by_pop'] = extended_data_f['Sum of selected ages_x'] / extended_data_f['Sum of selected ages_y']\n",
    "extended_data_m['Val_by_pop'] = extended_data_m['Sum of selected ages_x'] / extended_data_m['Sum of selected ages_y']"
   ]
  },
  {
   "cell_type": "code",
   "execution_count": 33,
   "metadata": {},
   "outputs": [],
   "source": [
    "extended_data_f['size_'] = extended_data_f['Val_by_pop']*2000**2\n",
    "extended_data_m['size_'] = extended_data_m['Val_by_pop']*2000**2"
   ]
  },
  {
   "cell_type": "code",
   "execution_count": 36,
   "metadata": {},
   "outputs": [],
   "source": [
    "! mkdir html_output"
   ]
  },
  {
   "cell_type": "code",
   "execution_count": 37,
   "metadata": {},
   "outputs": [],
   "source": [
    "# output_notebook()\n",
    "\n",
    "\n",
    "colors = [\"#fffcad\", \"#fffa85\", \"#fff400\", \"#f9e200\", \"#f0da00\", \"#f0ce00\", \"#f0c200\"]\n",
    "mapper = LinearColorMapper(palette=colors,\n",
    "                           low=extended_data_f['Val_by_pop'].min(), high=extended_data_f['Val_by_pop'].max())\n",
    "\n",
    "\n",
    "colors = list(reversed(RdBu[9]))\n",
    "exp_cmap = LinearColorMapper(palette=colors, \n",
    "                             low = -1, \n",
    "                             high = 1)\n",
    "\n",
    "\n",
    "\n",
    "p2 = figure(x_range = FactorRange(), y_range = FactorRange(), plot_width=1200, \n",
    "           plot_height=900, title=\"Female mortality from mental disorders (Northern countries)\",\n",
    "           toolbar_location=None, tools=\"hover\",\n",
    "          background_fill_color = \"#000000\")\n",
    "\n",
    "p2.title.text_font_size = '25pt' #heading\n",
    "\n",
    "#axis labels sizes\n",
    "p2.xaxis.axis_label_text_font_size = \"20pt\"\n",
    "p2.yaxis.axis_label_text_font_size = \"20pt\"\n",
    "\n",
    "#the categories size\n",
    "p2.xaxis.major_label_text_font_size = \"13pt\" \n",
    "p2.yaxis.major_label_text_font_size = \"13pt\"\n",
    "\n",
    "\n",
    "p2.scatter(\"Country\", \"Year\", source=extended_data_f, fill_alpha=1,  line_width=0, size=\"size_\", \n",
    "          fill_color=transform('Val_by_pop', mapper), line_color=\"#FFFFFF\", alpha = 0.9)\n",
    "\n",
    "p2.x_range.factors = sorted(extended_data_f['Country'].unique().tolist())\n",
    "p2.y_range.factors = sorted(extended_data_f['Year'].unique().tolist(), reverse = True)\n",
    "\n",
    "p2.xaxis.axis_label = 'Country'\n",
    "p2.yaxis.axis_label = 'Year'\n",
    "\n",
    "# show(p2)\n"
   ]
  },
  {
   "cell_type": "code",
   "execution_count": 38,
   "metadata": {},
   "outputs": [
    {
     "data": {
      "text/plain": [
       "'/home/tory/Desktop/WHO/code_and_data/html_output/Death_from_mental_disoders_WHO_females.html'"
      ]
     },
     "execution_count": 38,
     "metadata": {},
     "output_type": "execute_result"
    }
   ],
   "source": [
    "output_file(\"html_output/Death_from_mental_disoders_WHO_females.html\")\n",
    "save(p2)"
   ]
  }
 ],
 "metadata": {
  "kernelspec": {
   "display_name": "Python 3",
   "language": "python",
   "name": "python3"
  },
  "language_info": {
   "codemirror_mode": {
    "name": "ipython",
    "version": 3
   },
   "file_extension": ".py",
   "mimetype": "text/x-python",
   "name": "python",
   "nbconvert_exporter": "python",
   "pygments_lexer": "ipython3",
   "version": "3.6.8"
  }
 },
 "nbformat": 4,
 "nbformat_minor": 2
}
